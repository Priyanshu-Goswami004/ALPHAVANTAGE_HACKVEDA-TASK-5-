{
 "cells": [
  {
   "cell_type": "code",
   "execution_count": 1,
   "id": "c8a09a96-bcdd-47cf-ab89-61d1422d6bd4",
   "metadata": {},
   "outputs": [
    {
     "name": "stdout",
     "output_type": "stream",
     "text": [
      "Requirement already satisfied: pandas in c:\\programdata\\anaconda3\\lib\\site-packages (2.2.2)\n",
      "Requirement already satisfied: requests in c:\\programdata\\anaconda3\\lib\\site-packages (2.32.2)\n",
      "Requirement already satisfied: numpy>=1.26.0 in c:\\programdata\\anaconda3\\lib\\site-packages (from pandas) (1.26.4)\n",
      "Requirement already satisfied: python-dateutil>=2.8.2 in c:\\programdata\\anaconda3\\lib\\site-packages (from pandas) (2.9.0.post0)\n",
      "Requirement already satisfied: pytz>=2020.1 in c:\\programdata\\anaconda3\\lib\\site-packages (from pandas) (2024.1)\n",
      "Requirement already satisfied: tzdata>=2022.7 in c:\\programdata\\anaconda3\\lib\\site-packages (from pandas) (2023.3)\n",
      "Requirement already satisfied: charset-normalizer<4,>=2 in c:\\programdata\\anaconda3\\lib\\site-packages (from requests) (2.0.4)\n",
      "Requirement already satisfied: idna<4,>=2.5 in c:\\programdata\\anaconda3\\lib\\site-packages (from requests) (3.7)\n",
      "Requirement already satisfied: urllib3<3,>=1.21.1 in c:\\programdata\\anaconda3\\lib\\site-packages (from requests) (2.2.2)\n",
      "Requirement already satisfied: certifi>=2017.4.17 in c:\\programdata\\anaconda3\\lib\\site-packages (from requests) (2024.8.30)\n",
      "Requirement already satisfied: six>=1.5 in c:\\programdata\\anaconda3\\lib\\site-packages (from python-dateutil>=2.8.2->pandas) (1.16.0)\n",
      "Note: you may need to restart the kernel to use updated packages.\n"
     ]
    }
   ],
   "source": [
    "pip install pandas requests\n"
   ]
  },
  {
   "cell_type": "code",
   "execution_count": 45,
   "id": "e6e52224-869f-41cb-9798-252f717a6da1",
   "metadata": {},
   "outputs": [
    {
     "name": "stdout",
     "output_type": "stream",
     "text": [
      "{'Meta Data': {'1. Information': 'Daily Prices (open, high, low, close) and Volumes', '2. Symbol': 'BSE', '3. Last Refreshed': '2021-04-09', '4. Output Size': 'Compact', '5. Time Zone': 'US/Eastern'}, 'Time Series (Daily)': {'2021-04-09': {'1. open': '14.9200', '2. high': '14.9200', '3. low': '14.7112', '4. close': '14.7900', '5. volume': '108144'}, '2021-04-08': {'1. open': '14.6900', '2. high': '14.9200', '3. low': '14.6608', '4. close': '14.8500', '5. volume': '127043'}, '2021-04-07': {'1. open': '14.6400', '2. high': '14.6900', '3. low': '14.6400', '4. close': '14.6900', '5. volume': '56715'}, '2021-04-06': {'1. open': '14.6000', '2. high': '14.7300', '3. low': '14.6000', '4. close': '14.7100', '5. volume': '26193'}, '2021-04-05': {'1. open': '14.6400', '2. high': '14.6400', '3. low': '14.5600', '4. close': '14.6200', '5. volume': '92472'}, '2021-04-01': {'1. open': '14.4200', '2. high': '14.5500', '3. low': '14.4100', '4. close': '14.5400', '5. volume': '86053'}, '2021-03-31': {'1. open': '14.3800', '2. high': '14.4000', '3. low': '14.3600', '4. close': '14.3799', '5. volume': '37809'}, '2021-03-30': {'1. open': '14.3500', '2. high': '14.4300', '3. low': '14.3500', '4. close': '14.3800', '5. volume': '29502'}, '2021-03-29': {'1. open': '14.4000', '2. high': '14.4000', '3. low': '14.3500', '4. close': '14.3800', '5. volume': '24890'}, '2021-03-26': {'1. open': '14.4000', '2. high': '14.4100', '3. low': '14.2485', '4. close': '14.4000', '5. volume': '24215'}, '2021-03-25': {'1. open': '14.3900', '2. high': '14.4100', '3. low': '14.3500', '4. close': '14.4000', '5. volume': '22035'}, '2021-03-24': {'1. open': '14.3600', '2. high': '14.3900', '3. low': '14.3300', '4. close': '14.3900', '5. volume': '45741'}, '2021-03-23': {'1. open': '14.2800', '2. high': '14.3400', '3. low': '14.2500', '4. close': '14.3400', '5. volume': '34450'}, '2021-03-22': {'1. open': '14.2800', '2. high': '14.3400', '3. low': '14.2800', '4. close': '14.2900', '5. volume': '34645'}, '2021-03-19': {'1. open': '14.2300', '2. high': '14.2700', '3. low': '14.2200', '4. close': '14.2700', '5. volume': '3132'}, '2021-03-18': {'1. open': '14.2600', '2. high': '14.3000', '3. low': '14.2500', '4. close': '14.2600', '5. volume': '27506'}, '2021-03-17': {'1. open': '14.3400', '2. high': '14.3400', '3. low': '14.2400', '4. close': '14.3300', '5. volume': '101706'}, '2021-03-16': {'1. open': '14.3800', '2. high': '14.3800', '3. low': '14.3300', '4. close': '14.3500', '5. volume': '21715'}, '2021-03-15': {'1. open': '14.2900', '2. high': '14.3800', '3. low': '14.2900', '4. close': '14.3800', '5. volume': '21723'}, '2021-03-12': {'1. open': '14.2900', '2. high': '14.3400', '3. low': '14.2400', '4. close': '14.3000', '5. volume': '19453'}, '2021-03-11': {'1. open': '14.2700', '2. high': '14.3600', '3. low': '14.2500', '4. close': '14.3500', '5. volume': '60094'}, '2021-03-10': {'1. open': '14.1800', '2. high': '14.3700', '3. low': '14.1800', '4. close': '14.3100', '5. volume': '46425'}, '2021-03-09': {'1. open': '14.0700', '2. high': '14.2500', '3. low': '14.0700', '4. close': '14.2000', '5. volume': '12880'}, '2021-03-08': {'1. open': '14.1200', '2. high': '14.2300', '3. low': '14.0200', '4. close': '14.0800', '5. volume': '66084'}, '2021-03-05': {'1. open': '14.1900', '2. high': '14.1900', '3. low': '14.0600', '4. close': '14.0900', '5. volume': '35936'}, '2021-03-04': {'1. open': '14.1000', '2. high': '14.2900', '3. low': '14.1000', '4. close': '14.2100', '5. volume': '38923'}, '2021-03-03': {'1. open': '14.3200', '2. high': '14.3200', '3. low': '14.0700', '4. close': '14.2300', '5. volume': '25195'}, '2021-03-02': {'1. open': '14.2100', '2. high': '14.4300', '3. low': '14.1801', '4. close': '14.3300', '5. volume': '15007'}, '2021-03-01': {'1. open': '14.0300', '2. high': '14.2600', '3. low': '14.0200', '4. close': '14.2000', '5. volume': '35081'}, '2021-02-26': {'1. open': '13.8700', '2. high': '14.0700', '3. low': '13.8700', '4. close': '14.0700', '5. volume': '17702'}, '2021-02-25': {'1. open': '13.9400', '2. high': '13.9400', '3. low': '13.8800', '4. close': '13.9200', '5. volume': '36850'}, '2021-02-24': {'1. open': '13.8300', '2. high': '14.0100', '3. low': '13.8105', '4. close': '13.9892', '5. volume': '83251'}, '2021-02-23': {'1. open': '13.8500', '2. high': '13.9000', '3. low': '13.6202', '4. close': '13.9000', '5. volume': '38547'}, '2021-02-22': {'1. open': '13.9600', '2. high': '13.9600', '3. low': '13.8500', '4. close': '13.8900', '5. volume': '35431'}, '2021-02-19': {'1. open': '14.0900', '2. high': '14.0900', '3. low': '13.9620', '4. close': '13.9900', '5. volume': '16098'}, '2021-02-18': {'1. open': '14.2000', '2. high': '14.2000', '3. low': '14.0900', '4. close': '14.1000', '5. volume': '11486'}, '2021-02-17': {'1. open': '14.3200', '2. high': '14.3200', '3. low': '14.2300', '4. close': '14.2300', '5. volume': '33877'}, '2021-02-16': {'1. open': '14.3200', '2. high': '14.4900', '3. low': '14.2600', '4. close': '14.2900', '5. volume': '73482'}, '2021-02-12': {'1. open': '14.4000', '2. high': '14.4300', '3. low': '14.3300', '4. close': '14.3300', '5. volume': '12549'}, '2021-02-11': {'1. open': '14.4500', '2. high': '14.5100', '3. low': '14.4300', '4. close': '14.4700', '5. volume': '43369'}, '2021-02-10': {'1. open': '14.4400', '2. high': '14.5200', '3. low': '14.4100', '4. close': '14.4700', '5. volume': '11069'}, '2021-02-09': {'1. open': '14.3000', '2. high': '14.4900', '3. low': '14.3000', '4. close': '14.4000', '5. volume': '17248'}, '2021-02-08': {'1. open': '14.2500', '2. high': '14.4000', '3. low': '14.2500', '4. close': '14.3300', '5. volume': '24404'}, '2021-02-05': {'1. open': '14.2500', '2. high': '14.2500', '3. low': '14.2100', '4. close': '14.2500', '5. volume': '19167'}, '2021-02-04': {'1. open': '14.0700', '2. high': '14.2100', '3. low': '14.0700', '4. close': '14.2100', '5. volume': '13534'}, '2021-02-03': {'1. open': '14.0800', '2. high': '14.1550', '3. low': '14.0600', '4. close': '14.1500', '5. volume': '9385'}, '2021-02-02': {'1. open': '14.0200', '2. high': '14.1000', '3. low': '14.0200', '4. close': '14.1000', '5. volume': '24746'}, '2021-02-01': {'1. open': '14.0300', '2. high': '14.0900', '3. low': '14.0200', '4. close': '14.0510', '5. volume': '22141'}, '2021-01-29': {'1. open': '14.0300', '2. high': '14.0300', '3. low': '13.9500', '4. close': '13.9942', '5. volume': '12016'}, '2021-01-28': {'1. open': '14.0500', '2. high': '14.0500', '3. low': '13.9850', '4. close': '14.0200', '5. volume': '13021'}, '2021-01-27': {'1. open': '13.8100', '2. high': '14.0200', '3. low': '13.8100', '4. close': '13.9300', '5. volume': '24222'}, '2021-01-26': {'1. open': '13.8100', '2. high': '13.9200', '3. low': '13.7100', '4. close': '13.8400', '5. volume': '23352'}, '2021-01-25': {'1. open': '13.8200', '2. high': '13.8500', '3. low': '13.8000', '4. close': '13.8300', '5. volume': '13975'}, '2021-01-22': {'1. open': '13.8400', '2. high': '13.9100', '3. low': '13.8200', '4. close': '13.8600', '5. volume': '20945'}, '2021-01-21': {'1. open': '13.7400', '2. high': '13.7600', '3. low': '13.6701', '4. close': '13.7600', '5. volume': '16494'}, '2021-01-20': {'1. open': '13.5800', '2. high': '13.7400', '3. low': '13.5800', '4. close': '13.7156', '5. volume': '23256'}, '2021-01-19': {'1. open': '13.5600', '2. high': '13.5726', '3. low': '13.5000', '4. close': '13.5200', '5. volume': '20640'}, '2021-01-15': {'1. open': '13.5700', '2. high': '13.6200', '3. low': '13.5700', '4. close': '13.6100', '5. volume': '8343'}, '2021-01-14': {'1. open': '13.5700', '2. high': '13.6700', '3. low': '13.5700', '4. close': '13.6000', '5. volume': '7434'}, '2021-01-13': {'1. open': '13.6400', '2. high': '13.6400', '3. low': '13.5600', '4. close': '13.6400', '5. volume': '11433'}, '2021-01-12': {'1. open': '13.5600', '2. high': '13.6300', '3. low': '13.5300', '4. close': '13.6300', '5. volume': '29433'}, '2021-01-11': {'1. open': '13.5800', '2. high': '13.6400', '3. low': '13.5550', '4. close': '13.5550', '5. volume': '28012'}, '2021-01-08': {'1. open': '13.5600', '2. high': '13.6400', '3. low': '13.5600', '4. close': '13.5810', '5. volume': '5583'}, '2021-01-07': {'1. open': '13.6200', '2. high': '13.6200', '3. low': '13.5500', '4. close': '13.6000', '5. volume': '13668'}, '2021-01-06': {'1. open': '13.6100', '2. high': '13.6328', '3. low': '13.5500', '4. close': '13.5900', '5. volume': '14296'}, '2021-01-05': {'1. open': '13.5400', '2. high': '13.6590', '3. low': '13.5400', '4. close': '13.6400', '5. volume': '11786'}, '2021-01-04': {'1. open': '13.6200', '2. high': '13.6350', '3. low': '13.4700', '4. close': '13.5500', '5. volume': '29766'}, '2020-12-31': {'1. open': '13.5600', '2. high': '13.6364', '3. low': '13.5600', '4. close': '13.6300', '5. volume': '9700'}, '2020-12-30': {'1. open': '13.5200', '2. high': '13.5600', '3. low': '13.5200', '4. close': '13.5600', '5. volume': '13888'}, '2020-12-29': {'1. open': '13.5200', '2. high': '13.5200', '3. low': '13.5000', '4. close': '13.5002', '5. volume': '7546'}, '2020-12-28': {'1. open': '13.5200', '2. high': '13.5200', '3. low': '13.4800', '4. close': '13.5200', '5. volume': '6865'}, '2020-12-24': {'1. open': '13.4600', '2. high': '13.5100', '3. low': '13.4600', '4. close': '13.5100', '5. volume': '8376'}, '2020-12-23': {'1. open': '13.4600', '2. high': '13.4990', '3. low': '13.4600', '4. close': '13.4799', '5. volume': '7166'}, '2020-12-22': {'1. open': '13.4800', '2. high': '13.5400', '3. low': '13.4400', '4. close': '13.5000', '5. volume': '21416'}, '2020-12-21': {'1. open': '13.4400', '2. high': '13.5100', '3. low': '13.4400', '4. close': '13.4950', '5. volume': '1540'}, '2020-12-18': {'1. open': '13.4800', '2. high': '13.5200', '3. low': '13.4600', '4. close': '13.4600', '5. volume': '8968'}, '2020-12-17': {'1. open': '13.4800', '2. high': '13.5029', '3. low': '13.4278', '4. close': '13.4300', '5. volume': '7608'}, '2020-12-16': {'1. open': '13.4800', '2. high': '13.5012', '3. low': '13.4600', '4. close': '13.4600', '5. volume': '7858'}, '2020-12-15': {'1. open': '13.4800', '2. high': '13.5320', '3. low': '13.4508', '4. close': '13.4876', '5. volume': '7535'}, '2020-12-14': {'1. open': '13.5700', '2. high': '13.5700', '3. low': '13.4500', '4. close': '13.4600', '5. volume': '10234'}, '2020-12-11': {'1. open': '13.5800', '2. high': '13.6200', '3. low': '13.4000', '4. close': '13.5200', '5. volume': '21514'}, '2020-12-10': {'1. open': '13.5800', '2. high': '13.5967', '3. low': '13.5500', '4. close': '13.5550', '5. volume': '10849'}, '2020-12-09': {'1. open': '13.6100', '2. high': '13.6100', '3. low': '13.5331', '4. close': '13.5700', '5. volume': '15182'}, '2020-12-08': {'1. open': '13.5800', '2. high': '13.5800', '3. low': '13.5000', '4. close': '13.5100', '5. volume': '44887'}, '2020-12-07': {'1. open': '13.5800', '2. high': '13.6200', '3. low': '13.5800', '4. close': '13.6000', '5. volume': '5812'}, '2020-12-04': {'1. open': '13.6300', '2. high': '13.6594', '3. low': '13.5600', '4. close': '13.6200', '5. volume': '12592'}, '2020-12-03': {'1. open': '13.6200', '2. high': '13.6600', '3. low': '13.5900', '4. close': '13.6600', '5. volume': '16045'}, '2020-12-02': {'1. open': '13.6100', '2. high': '13.6700', '3. low': '13.6038', '4. close': '13.6200', '5. volume': '7419'}, '2020-12-01': {'1. open': '13.5400', '2. high': '13.6850', '3. low': '13.5400', '4. close': '13.5900', '5. volume': '23694'}, '2020-11-30': {'1. open': '13.6600', '2. high': '13.6600', '3. low': '13.6000', '4. close': '13.6102', '5. volume': '24312'}, '2020-11-27': {'1. open': '13.5800', '2. high': '13.6400', '3. low': '13.5400', '4. close': '13.6314', '5. volume': '1817'}, '2020-11-25': {'1. open': '13.4900', '2. high': '13.5527', '3. low': '13.4900', '4. close': '13.5400', '5. volume': '10255'}, '2020-11-24': {'1. open': '13.4400', '2. high': '13.4900', '3. low': '13.4400', '4. close': '13.4900', '5. volume': '12983'}, '2020-11-23': {'1. open': '13.3200', '2. high': '13.3943', '3. low': '13.3200', '4. close': '13.3900', '5. volume': '5921'}, '2020-11-20': {'1. open': '13.4400', '2. high': '13.4400', '3. low': '13.3500', '4. close': '13.3700', '5. volume': '14399'}, '2020-11-19': {'1. open': '13.3600', '2. high': '13.4100', '3. low': '13.3000', '4. close': '13.3600', '5. volume': '9307'}, '2020-11-18': {'1. open': '13.2100', '2. high': '13.3448', '3. low': '13.2100', '4. close': '13.3400', '5. volume': '10173'}, '2020-11-17': {'1. open': '13.2600', '2. high': '13.3010', '3. low': '13.2000', '4. close': '13.2300', '5. volume': '17858'}, '2020-11-16': {'1. open': '13.2300', '2. high': '13.2600', '3. low': '13.2100', '4. close': '13.2600', '5. volume': '16716'}, '2020-11-13': {'1. open': '13.1200', '2. high': '13.1600', '3. low': '13.1200', '4. close': '13.1600', '5. volume': '2204'}}}\n"
     ]
    }
   ],
   "source": [
    "\n",
    "import requests\n",
    "import pandas as pd\n",
    "import requests\n",
    "import pandas as pd\n",
    "import numpy as np\n",
    "url=' https://www.alphavantage.co/query?function=TIME_SERIES_DAILY&symbol=BSE&apikey=YGAZDH4Z3PC0VE77'\n",
    "r= requests.get(url)\n",
    "data= r.json()\n",
    "print(data)"
   ]
  },
  {
   "cell_type": "code",
   "execution_count": 43,
   "id": "dede7b45-314c-4ddf-abdc-45cd39ba5022",
   "metadata": {},
   "outputs": [
    {
     "name": "stdout",
     "output_type": "stream",
     "text": [
      "            1. open  2. high   3. low  4. close  5. volume\n",
      "2021-04-09    14.92  14.9200  14.7112     14.79     108144\n",
      "2021-04-08    14.69  14.9200  14.6608     14.85     127043\n",
      "2021-04-07    14.64  14.6900  14.6400     14.69      56715\n",
      "2021-04-06    14.60  14.7300  14.6000     14.71      26193\n",
      "2021-04-05    14.64  14.6400  14.5600     14.62      92472\n",
      "...             ...      ...      ...       ...        ...\n",
      "2020-11-19    13.36  13.4100  13.3000     13.36       9307\n",
      "2020-11-18    13.21  13.3448  13.2100     13.34      10173\n",
      "2020-11-17    13.26  13.3010  13.2000     13.23      17858\n",
      "2020-11-16    13.23  13.2600  13.2100     13.26      16716\n",
      "2020-11-13    13.12  13.1600  13.1200     13.16       2204\n",
      "\n",
      "[100 rows x 5 columns]\n"
     ]
    }
   ],
   "source": [
    "# Check if the \"Time Series (Daily)\" key exists in the data\n",
    "if 'Time Series (Daily)' in data:\n",
    "    # Extract the time series data from the response\n",
    "    time_series = data['Time Series (Daily)']\n",
    "    \n",
    "    # Convert the time series data into a DataFrame\n",
    "    bse_df = pd.DataFrame.from_dict(time_series, orient=\"index\")\n",
    "    \n",
    "    # Convert the index (dates) to pandas datetime format\n",
    "    bse_df.index = pd.to_datetime(bse_df.index)\n",
    "    \n",
    "    # Convert all columns to numeric types\n",
    "    bse_df = bse_df.apply(pd.to_numeric)\n",
    "    \n",
    "    # Show the first few rows of the DataFrame\n",
    "    print(bse_df)"
   ]
  },
  {
   "cell_type": "code",
   "execution_count": 47,
   "id": "4f19e4a6-6664-49b0-b89d-dfefadcbca38",
   "metadata": {},
   "outputs": [
    {
     "name": "stdout",
     "output_type": "stream",
     "text": [
      "<class 'pandas.core.frame.DataFrame'>\n",
      "DatetimeIndex: 100 entries, 2021-04-09 to 2020-11-13\n",
      "Data columns (total 5 columns):\n",
      " #   Column     Non-Null Count  Dtype  \n",
      "---  ------     --------------  -----  \n",
      " 0   1. open    100 non-null    float64\n",
      " 1   2. high    100 non-null    float64\n",
      " 2   3. low     100 non-null    float64\n",
      " 3   4. close   100 non-null    float64\n",
      " 4   5. volume  100 non-null    int64  \n",
      "dtypes: float64(4), int64(1)\n",
      "memory usage: 4.7 KB\n"
     ]
    }
   ],
   "source": [
    "bse_df.info()"
   ]
  },
  {
   "cell_type": "code",
   "execution_count": 51,
   "id": "c53d7863-271e-4f38-8540-106e22c705c5",
   "metadata": {},
   "outputs": [
    {
     "name": "stdout",
     "output_type": "stream",
     "text": [
      "<class 'pandas.core.frame.DataFrame'>\n",
      "DatetimeIndex: 100 entries, 2021-04-09 to 2020-11-13\n",
      "Data columns (total 5 columns):\n",
      " #   Column     Non-Null Count  Dtype  \n",
      "---  ------     --------------  -----  \n",
      " 0   1. open    100 non-null    float64\n",
      " 1   2. high    100 non-null    float64\n",
      " 2   3. low     100 non-null    float64\n",
      " 3   4. close   100 non-null    float64\n",
      " 4   5. volume  100 non-null    float64\n",
      "dtypes: float64(5)\n",
      "memory usage: 4.7 KB\n"
     ]
    }
   ],
   "source": [
    "bse_df = bse_df.astype(float)\n",
    "bse_df.info()"
   ]
  },
  {
   "cell_type": "code",
   "execution_count": 53,
   "id": "bf950123-9456-4681-afc0-d8c08c88b84c",
   "metadata": {},
   "outputs": [
    {
     "data": {
      "text/plain": [
       "1. open      0\n",
       "2. high      0\n",
       "3. low       0\n",
       "4. close     0\n",
       "5. volume    0\n",
       "dtype: int64"
      ]
     },
     "execution_count": 53,
     "metadata": {},
     "output_type": "execute_result"
    }
   ],
   "source": [
    "bse_df.isna().sum()"
   ]
  },
  {
   "cell_type": "code",
   "execution_count": 59,
   "id": "887775c8-8d94-41e7-b34d-c72cb8ac5b35",
   "metadata": {},
   "outputs": [
    {
     "data": {
      "text/html": [
       "<div>\n",
       "<style scoped>\n",
       "    .dataframe tbody tr th:only-of-type {\n",
       "        vertical-align: middle;\n",
       "    }\n",
       "\n",
       "    .dataframe tbody tr th {\n",
       "        vertical-align: top;\n",
       "    }\n",
       "\n",
       "    .dataframe thead th {\n",
       "        text-align: right;\n",
       "    }\n",
       "</style>\n",
       "<table border=\"1\" class=\"dataframe\">\n",
       "  <thead>\n",
       "    <tr style=\"text-align: right;\">\n",
       "      <th></th>\n",
       "      <th>Open</th>\n",
       "      <th>High</th>\n",
       "      <th>Low</th>\n",
       "      <th>Close</th>\n",
       "      <th>Volume</th>\n",
       "    </tr>\n",
       "  </thead>\n",
       "  <tbody>\n",
       "    <tr>\n",
       "      <th>2021-04-09</th>\n",
       "      <td>14.92</td>\n",
       "      <td>14.9200</td>\n",
       "      <td>14.7112</td>\n",
       "      <td>14.79</td>\n",
       "      <td>108144.0</td>\n",
       "    </tr>\n",
       "    <tr>\n",
       "      <th>2021-04-08</th>\n",
       "      <td>14.69</td>\n",
       "      <td>14.9200</td>\n",
       "      <td>14.6608</td>\n",
       "      <td>14.85</td>\n",
       "      <td>127043.0</td>\n",
       "    </tr>\n",
       "    <tr>\n",
       "      <th>2021-04-07</th>\n",
       "      <td>14.64</td>\n",
       "      <td>14.6900</td>\n",
       "      <td>14.6400</td>\n",
       "      <td>14.69</td>\n",
       "      <td>56715.0</td>\n",
       "    </tr>\n",
       "    <tr>\n",
       "      <th>2021-04-06</th>\n",
       "      <td>14.60</td>\n",
       "      <td>14.7300</td>\n",
       "      <td>14.6000</td>\n",
       "      <td>14.71</td>\n",
       "      <td>26193.0</td>\n",
       "    </tr>\n",
       "    <tr>\n",
       "      <th>2021-04-05</th>\n",
       "      <td>14.64</td>\n",
       "      <td>14.6400</td>\n",
       "      <td>14.5600</td>\n",
       "      <td>14.62</td>\n",
       "      <td>92472.0</td>\n",
       "    </tr>\n",
       "    <tr>\n",
       "      <th>...</th>\n",
       "      <td>...</td>\n",
       "      <td>...</td>\n",
       "      <td>...</td>\n",
       "      <td>...</td>\n",
       "      <td>...</td>\n",
       "    </tr>\n",
       "    <tr>\n",
       "      <th>2020-11-19</th>\n",
       "      <td>13.36</td>\n",
       "      <td>13.4100</td>\n",
       "      <td>13.3000</td>\n",
       "      <td>13.36</td>\n",
       "      <td>9307.0</td>\n",
       "    </tr>\n",
       "    <tr>\n",
       "      <th>2020-11-18</th>\n",
       "      <td>13.21</td>\n",
       "      <td>13.3448</td>\n",
       "      <td>13.2100</td>\n",
       "      <td>13.34</td>\n",
       "      <td>10173.0</td>\n",
       "    </tr>\n",
       "    <tr>\n",
       "      <th>2020-11-17</th>\n",
       "      <td>13.26</td>\n",
       "      <td>13.3010</td>\n",
       "      <td>13.2000</td>\n",
       "      <td>13.23</td>\n",
       "      <td>17858.0</td>\n",
       "    </tr>\n",
       "    <tr>\n",
       "      <th>2020-11-16</th>\n",
       "      <td>13.23</td>\n",
       "      <td>13.2600</td>\n",
       "      <td>13.2100</td>\n",
       "      <td>13.26</td>\n",
       "      <td>16716.0</td>\n",
       "    </tr>\n",
       "    <tr>\n",
       "      <th>2020-11-13</th>\n",
       "      <td>13.12</td>\n",
       "      <td>13.1600</td>\n",
       "      <td>13.1200</td>\n",
       "      <td>13.16</td>\n",
       "      <td>2204.0</td>\n",
       "    </tr>\n",
       "  </tbody>\n",
       "</table>\n",
       "<p>100 rows × 5 columns</p>\n",
       "</div>"
      ],
      "text/plain": [
       "             Open     High      Low  Close    Volume\n",
       "2021-04-09  14.92  14.9200  14.7112  14.79  108144.0\n",
       "2021-04-08  14.69  14.9200  14.6608  14.85  127043.0\n",
       "2021-04-07  14.64  14.6900  14.6400  14.69   56715.0\n",
       "2021-04-06  14.60  14.7300  14.6000  14.71   26193.0\n",
       "2021-04-05  14.64  14.6400  14.5600  14.62   92472.0\n",
       "...           ...      ...      ...    ...       ...\n",
       "2020-11-19  13.36  13.4100  13.3000  13.36    9307.0\n",
       "2020-11-18  13.21  13.3448  13.2100  13.34   10173.0\n",
       "2020-11-17  13.26  13.3010  13.2000  13.23   17858.0\n",
       "2020-11-16  13.23  13.2600  13.2100  13.26   16716.0\n",
       "2020-11-13  13.12  13.1600  13.1200  13.16    2204.0\n",
       "\n",
       "[100 rows x 5 columns]"
      ]
     },
     "execution_count": 59,
     "metadata": {},
     "output_type": "execute_result"
    }
   ],
   "source": [
    "mapper={}\n",
    "old= list(bse_df.columns)\n",
    "new= [str(x[3:]).capitalize()for x in old]\n",
    "for x,y in zip(old,new):\n",
    "    mapper[x]=y\n",
    "\n",
    "bse_df.rename(columns=mapper, inplace=True)\n",
    "bse_df"
   ]
  },
  {
   "cell_type": "code",
   "execution_count": 63,
   "id": "eba84427-51b4-4231-a11c-efd69eefa16d",
   "metadata": {},
   "outputs": [],
   "source": [
    "bse_df.to_csv('bse_stock_data.csv')"
   ]
  },
  {
   "cell_type": "code",
   "execution_count": null,
   "id": "aa85f516-4d9e-4ed1-9d3e-759f21a69d54",
   "metadata": {},
   "outputs": [],
   "source": []
  }
 ],
 "metadata": {
  "kernelspec": {
   "display_name": "Python 3 (ipykernel)",
   "language": "python",
   "name": "python3"
  },
  "language_info": {
   "codemirror_mode": {
    "name": "ipython",
    "version": 3
   },
   "file_extension": ".py",
   "mimetype": "text/x-python",
   "name": "python",
   "nbconvert_exporter": "python",
   "pygments_lexer": "ipython3",
   "version": "3.12.4"
  }
 },
 "nbformat": 4,
 "nbformat_minor": 5
}
